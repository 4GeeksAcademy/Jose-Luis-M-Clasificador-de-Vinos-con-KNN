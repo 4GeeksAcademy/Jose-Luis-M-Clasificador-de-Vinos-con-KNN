{
    "cells": [
        {
            "cell_type": "markdown",
            "metadata": {},
            "source": [
                "# Explore here"
            ]
        },
        {
            "cell_type": "code",
            "execution_count": 56,
            "metadata": {},
            "outputs": [],
            "source": [
                "import pandas as pd\n",
                "from sklearn.model_selection import train_test_split\n",
                "from sklearn.neighbors import KNeighborsClassifier\n",
                "from sklearn.preprocessing import StandardScaler\n",
                "from sklearn.metrics import accuracy_score, confusion_matrix, classification_report\n",
                "import matplotlib.pyplot as plt"
            ]
        },
        {
            "cell_type": "markdown",
            "metadata": {},
            "source": [
                "AVISO: se nos permitio ser radicales y solo elijo agrupar los valores de quality en 2 grupos."
            ]
        },
        {
            "cell_type": "code",
            "execution_count": null,
            "metadata": {},
            "outputs": [
                {
                    "data": {
                        "text/html": [
                            "<div>\n",
                            "<style scoped>\n",
                            "    .dataframe tbody tr th:only-of-type {\n",
                            "        vertical-align: middle;\n",
                            "    }\n",
                            "\n",
                            "    .dataframe tbody tr th {\n",
                            "        vertical-align: top;\n",
                            "    }\n",
                            "\n",
                            "    .dataframe thead th {\n",
                            "        text-align: right;\n",
                            "    }\n",
                            "</style>\n",
                            "<table border=\"1\" class=\"dataframe\">\n",
                            "  <thead>\n",
                            "    <tr style=\"text-align: right;\">\n",
                            "      <th></th>\n",
                            "      <th>fixed acidity</th>\n",
                            "      <th>volatile acidity</th>\n",
                            "      <th>citric acid</th>\n",
                            "      <th>residual sugar</th>\n",
                            "      <th>chlorides</th>\n",
                            "      <th>free sulfur dioxide</th>\n",
                            "      <th>total sulfur dioxide</th>\n",
                            "      <th>density</th>\n",
                            "      <th>pH</th>\n",
                            "      <th>sulphates</th>\n",
                            "      <th>alcohol</th>\n",
                            "      <th>quality</th>\n",
                            "    </tr>\n",
                            "  </thead>\n",
                            "  <tbody>\n",
                            "    <tr>\n",
                            "      <th>0</th>\n",
                            "      <td>7.4</td>\n",
                            "      <td>0.700</td>\n",
                            "      <td>0.00</td>\n",
                            "      <td>1.9</td>\n",
                            "      <td>0.076</td>\n",
                            "      <td>11.0</td>\n",
                            "      <td>34.0</td>\n",
                            "      <td>0.99780</td>\n",
                            "      <td>3.51</td>\n",
                            "      <td>0.56</td>\n",
                            "      <td>9.4</td>\n",
                            "      <td>5</td>\n",
                            "    </tr>\n",
                            "    <tr>\n",
                            "      <th>1</th>\n",
                            "      <td>7.8</td>\n",
                            "      <td>0.880</td>\n",
                            "      <td>0.00</td>\n",
                            "      <td>2.6</td>\n",
                            "      <td>0.098</td>\n",
                            "      <td>25.0</td>\n",
                            "      <td>67.0</td>\n",
                            "      <td>0.99680</td>\n",
                            "      <td>3.20</td>\n",
                            "      <td>0.68</td>\n",
                            "      <td>9.8</td>\n",
                            "      <td>5</td>\n",
                            "    </tr>\n",
                            "    <tr>\n",
                            "      <th>2</th>\n",
                            "      <td>7.8</td>\n",
                            "      <td>0.760</td>\n",
                            "      <td>0.04</td>\n",
                            "      <td>2.3</td>\n",
                            "      <td>0.092</td>\n",
                            "      <td>15.0</td>\n",
                            "      <td>54.0</td>\n",
                            "      <td>0.99700</td>\n",
                            "      <td>3.26</td>\n",
                            "      <td>0.65</td>\n",
                            "      <td>9.8</td>\n",
                            "      <td>5</td>\n",
                            "    </tr>\n",
                            "    <tr>\n",
                            "      <th>3</th>\n",
                            "      <td>11.2</td>\n",
                            "      <td>0.280</td>\n",
                            "      <td>0.56</td>\n",
                            "      <td>1.9</td>\n",
                            "      <td>0.075</td>\n",
                            "      <td>17.0</td>\n",
                            "      <td>60.0</td>\n",
                            "      <td>0.99800</td>\n",
                            "      <td>3.16</td>\n",
                            "      <td>0.58</td>\n",
                            "      <td>9.8</td>\n",
                            "      <td>6</td>\n",
                            "    </tr>\n",
                            "    <tr>\n",
                            "      <th>4</th>\n",
                            "      <td>7.4</td>\n",
                            "      <td>0.700</td>\n",
                            "      <td>0.00</td>\n",
                            "      <td>1.9</td>\n",
                            "      <td>0.076</td>\n",
                            "      <td>11.0</td>\n",
                            "      <td>34.0</td>\n",
                            "      <td>0.99780</td>\n",
                            "      <td>3.51</td>\n",
                            "      <td>0.56</td>\n",
                            "      <td>9.4</td>\n",
                            "      <td>5</td>\n",
                            "    </tr>\n",
                            "    <tr>\n",
                            "      <th>...</th>\n",
                            "      <td>...</td>\n",
                            "      <td>...</td>\n",
                            "      <td>...</td>\n",
                            "      <td>...</td>\n",
                            "      <td>...</td>\n",
                            "      <td>...</td>\n",
                            "      <td>...</td>\n",
                            "      <td>...</td>\n",
                            "      <td>...</td>\n",
                            "      <td>...</td>\n",
                            "      <td>...</td>\n",
                            "      <td>...</td>\n",
                            "    </tr>\n",
                            "    <tr>\n",
                            "      <th>1594</th>\n",
                            "      <td>6.2</td>\n",
                            "      <td>0.600</td>\n",
                            "      <td>0.08</td>\n",
                            "      <td>2.0</td>\n",
                            "      <td>0.090</td>\n",
                            "      <td>32.0</td>\n",
                            "      <td>44.0</td>\n",
                            "      <td>0.99490</td>\n",
                            "      <td>3.45</td>\n",
                            "      <td>0.58</td>\n",
                            "      <td>10.5</td>\n",
                            "      <td>5</td>\n",
                            "    </tr>\n",
                            "    <tr>\n",
                            "      <th>1595</th>\n",
                            "      <td>5.9</td>\n",
                            "      <td>0.550</td>\n",
                            "      <td>0.10</td>\n",
                            "      <td>2.2</td>\n",
                            "      <td>0.062</td>\n",
                            "      <td>39.0</td>\n",
                            "      <td>51.0</td>\n",
                            "      <td>0.99512</td>\n",
                            "      <td>3.52</td>\n",
                            "      <td>0.76</td>\n",
                            "      <td>11.2</td>\n",
                            "      <td>6</td>\n",
                            "    </tr>\n",
                            "    <tr>\n",
                            "      <th>1596</th>\n",
                            "      <td>6.3</td>\n",
                            "      <td>0.510</td>\n",
                            "      <td>0.13</td>\n",
                            "      <td>2.3</td>\n",
                            "      <td>0.076</td>\n",
                            "      <td>29.0</td>\n",
                            "      <td>40.0</td>\n",
                            "      <td>0.99574</td>\n",
                            "      <td>3.42</td>\n",
                            "      <td>0.75</td>\n",
                            "      <td>11.0</td>\n",
                            "      <td>6</td>\n",
                            "    </tr>\n",
                            "    <tr>\n",
                            "      <th>1597</th>\n",
                            "      <td>5.9</td>\n",
                            "      <td>0.645</td>\n",
                            "      <td>0.12</td>\n",
                            "      <td>2.0</td>\n",
                            "      <td>0.075</td>\n",
                            "      <td>32.0</td>\n",
                            "      <td>44.0</td>\n",
                            "      <td>0.99547</td>\n",
                            "      <td>3.57</td>\n",
                            "      <td>0.71</td>\n",
                            "      <td>10.2</td>\n",
                            "      <td>5</td>\n",
                            "    </tr>\n",
                            "    <tr>\n",
                            "      <th>1598</th>\n",
                            "      <td>6.0</td>\n",
                            "      <td>0.310</td>\n",
                            "      <td>0.47</td>\n",
                            "      <td>3.6</td>\n",
                            "      <td>0.067</td>\n",
                            "      <td>18.0</td>\n",
                            "      <td>42.0</td>\n",
                            "      <td>0.99549</td>\n",
                            "      <td>3.39</td>\n",
                            "      <td>0.66</td>\n",
                            "      <td>11.0</td>\n",
                            "      <td>6</td>\n",
                            "    </tr>\n",
                            "  </tbody>\n",
                            "</table>\n",
                            "<p>1599 rows × 12 columns</p>\n",
                            "</div>"
                        ],
                        "text/plain": [
                            "      fixed acidity  volatile acidity  citric acid  residual sugar  chlorides  \\\n",
                            "0               7.4             0.700         0.00             1.9      0.076   \n",
                            "1               7.8             0.880         0.00             2.6      0.098   \n",
                            "2               7.8             0.760         0.04             2.3      0.092   \n",
                            "3              11.2             0.280         0.56             1.9      0.075   \n",
                            "4               7.4             0.700         0.00             1.9      0.076   \n",
                            "...             ...               ...          ...             ...        ...   \n",
                            "1594            6.2             0.600         0.08             2.0      0.090   \n",
                            "1595            5.9             0.550         0.10             2.2      0.062   \n",
                            "1596            6.3             0.510         0.13             2.3      0.076   \n",
                            "1597            5.9             0.645         0.12             2.0      0.075   \n",
                            "1598            6.0             0.310         0.47             3.6      0.067   \n",
                            "\n",
                            "      free sulfur dioxide  total sulfur dioxide  density    pH  sulphates  \\\n",
                            "0                    11.0                  34.0  0.99780  3.51       0.56   \n",
                            "1                    25.0                  67.0  0.99680  3.20       0.68   \n",
                            "2                    15.0                  54.0  0.99700  3.26       0.65   \n",
                            "3                    17.0                  60.0  0.99800  3.16       0.58   \n",
                            "4                    11.0                  34.0  0.99780  3.51       0.56   \n",
                            "...                   ...                   ...      ...   ...        ...   \n",
                            "1594                 32.0                  44.0  0.99490  3.45       0.58   \n",
                            "1595                 39.0                  51.0  0.99512  3.52       0.76   \n",
                            "1596                 29.0                  40.0  0.99574  3.42       0.75   \n",
                            "1597                 32.0                  44.0  0.99547  3.57       0.71   \n",
                            "1598                 18.0                  42.0  0.99549  3.39       0.66   \n",
                            "\n",
                            "      alcohol  quality  \n",
                            "0         9.4        5  \n",
                            "1         9.8        5  \n",
                            "2         9.8        5  \n",
                            "3         9.8        6  \n",
                            "4         9.4        5  \n",
                            "...       ...      ...  \n",
                            "1594     10.5        5  \n",
                            "1595     11.2        6  \n",
                            "1596     11.0        6  \n",
                            "1597     10.2        5  \n",
                            "1598     11.0        6  \n",
                            "\n",
                            "[1599 rows x 12 columns]"
                        ]
                    },
                    "execution_count": 22,
                    "metadata": {},
                    "output_type": "execute_result"
                }
            ],
            "source": [
                "# Read\n",
                "df = pd.read_csv('../data/raw/winequality-red.csv', sep=';')\n",
                "df"
            ]
        },
        {
            "cell_type": "markdown",
            "metadata": {},
            "source": [
                "La columna quality tiene de 3 a 8 calidades de vino, en la columna \"label\" como sugiere el ejercicio en la cual hay 3 categorias."
            ]
        },
        {
            "cell_type": "code",
            "execution_count": null,
            "metadata": {},
            "outputs": [
                {
                    "data": {
                        "text/plain": [
                            "<bound method NDFrame.describe of       fixed acidity  volatile acidity  citric acid  residual sugar  chlorides  \\\n",
                            "0               7.4             0.700         0.00             1.9      0.076   \n",
                            "1               7.8             0.880         0.00             2.6      0.098   \n",
                            "2               7.8             0.760         0.04             2.3      0.092   \n",
                            "3              11.2             0.280         0.56             1.9      0.075   \n",
                            "4               7.4             0.700         0.00             1.9      0.076   \n",
                            "...             ...               ...          ...             ...        ...   \n",
                            "1594            6.2             0.600         0.08             2.0      0.090   \n",
                            "1595            5.9             0.550         0.10             2.2      0.062   \n",
                            "1596            6.3             0.510         0.13             2.3      0.076   \n",
                            "1597            5.9             0.645         0.12             2.0      0.075   \n",
                            "1598            6.0             0.310         0.47             3.6      0.067   \n",
                            "\n",
                            "      free sulfur dioxide  total sulfur dioxide  density    pH  sulphates  \\\n",
                            "0                    11.0                  34.0  0.99780  3.51       0.56   \n",
                            "1                    25.0                  67.0  0.99680  3.20       0.68   \n",
                            "2                    15.0                  54.0  0.99700  3.26       0.65   \n",
                            "3                    17.0                  60.0  0.99800  3.16       0.58   \n",
                            "4                    11.0                  34.0  0.99780  3.51       0.56   \n",
                            "...                   ...                   ...      ...   ...        ...   \n",
                            "1594                 32.0                  44.0  0.99490  3.45       0.58   \n",
                            "1595                 39.0                  51.0  0.99512  3.52       0.76   \n",
                            "1596                 29.0                  40.0  0.99574  3.42       0.75   \n",
                            "1597                 32.0                  44.0  0.99547  3.57       0.71   \n",
                            "1598                 18.0                  42.0  0.99549  3.39       0.66   \n",
                            "\n",
                            "      alcohol  quality  \n",
                            "0         9.4        5  \n",
                            "1         9.8        5  \n",
                            "2         9.8        5  \n",
                            "3         9.8        6  \n",
                            "4         9.4        5  \n",
                            "...       ...      ...  \n",
                            "1594     10.5        5  \n",
                            "1595     11.2        6  \n",
                            "1596     11.0        6  \n",
                            "1597     10.2        5  \n",
                            "1598     11.0        6  \n",
                            "\n",
                            "[1599 rows x 12 columns]>"
                        ]
                    },
                    "execution_count": 3,
                    "metadata": {},
                    "output_type": "execute_result"
                }
            ],
            "source": [
                "# describe\n",
                "df.describe"
            ]
        },
        {
            "cell_type": "markdown",
            "metadata": {},
            "source": [
                "Cada fila es un vino con sus caracteristicas quimicas,  calidad del vino muestra 3,5,6 y 8 borraremos los duplicados."
            ]
        },
        {
            "cell_type": "code",
            "execution_count": 55,
            "metadata": {},
            "outputs": [
                {
                    "data": {
                        "text/html": [
                            "<div>\n",
                            "<style scoped>\n",
                            "    .dataframe tbody tr th:only-of-type {\n",
                            "        vertical-align: middle;\n",
                            "    }\n",
                            "\n",
                            "    .dataframe tbody tr th {\n",
                            "        vertical-align: top;\n",
                            "    }\n",
                            "\n",
                            "    .dataframe thead th {\n",
                            "        text-align: right;\n",
                            "    }\n",
                            "</style>\n",
                            "<table border=\"1\" class=\"dataframe\">\n",
                            "  <thead>\n",
                            "    <tr style=\"text-align: right;\">\n",
                            "      <th></th>\n",
                            "      <th>fixed acidity</th>\n",
                            "      <th>volatile acidity</th>\n",
                            "      <th>citric acid</th>\n",
                            "      <th>residual sugar</th>\n",
                            "      <th>chlorides</th>\n",
                            "      <th>free sulfur dioxide</th>\n",
                            "      <th>total sulfur dioxide</th>\n",
                            "      <th>density</th>\n",
                            "      <th>pH</th>\n",
                            "      <th>sulphates</th>\n",
                            "      <th>alcohol</th>\n",
                            "      <th>quality</th>\n",
                            "      <th>quality_group</th>\n",
                            "    </tr>\n",
                            "  </thead>\n",
                            "  <tbody>\n",
                            "    <tr>\n",
                            "      <th>0</th>\n",
                            "      <td>7.4</td>\n",
                            "      <td>0.70</td>\n",
                            "      <td>0.00</td>\n",
                            "      <td>1.9</td>\n",
                            "      <td>0.076</td>\n",
                            "      <td>11.0</td>\n",
                            "      <td>34.0</td>\n",
                            "      <td>0.9978</td>\n",
                            "      <td>3.51</td>\n",
                            "      <td>0.56</td>\n",
                            "      <td>9.4</td>\n",
                            "      <td>5</td>\n",
                            "      <td>0</td>\n",
                            "    </tr>\n",
                            "    <tr>\n",
                            "      <th>1</th>\n",
                            "      <td>7.8</td>\n",
                            "      <td>0.88</td>\n",
                            "      <td>0.00</td>\n",
                            "      <td>2.6</td>\n",
                            "      <td>0.098</td>\n",
                            "      <td>25.0</td>\n",
                            "      <td>67.0</td>\n",
                            "      <td>0.9968</td>\n",
                            "      <td>3.20</td>\n",
                            "      <td>0.68</td>\n",
                            "      <td>9.8</td>\n",
                            "      <td>5</td>\n",
                            "      <td>0</td>\n",
                            "    </tr>\n",
                            "    <tr>\n",
                            "      <th>2</th>\n",
                            "      <td>7.8</td>\n",
                            "      <td>0.76</td>\n",
                            "      <td>0.04</td>\n",
                            "      <td>2.3</td>\n",
                            "      <td>0.092</td>\n",
                            "      <td>15.0</td>\n",
                            "      <td>54.0</td>\n",
                            "      <td>0.9970</td>\n",
                            "      <td>3.26</td>\n",
                            "      <td>0.65</td>\n",
                            "      <td>9.8</td>\n",
                            "      <td>5</td>\n",
                            "      <td>0</td>\n",
                            "    </tr>\n",
                            "    <tr>\n",
                            "      <th>3</th>\n",
                            "      <td>11.2</td>\n",
                            "      <td>0.28</td>\n",
                            "      <td>0.56</td>\n",
                            "      <td>1.9</td>\n",
                            "      <td>0.075</td>\n",
                            "      <td>17.0</td>\n",
                            "      <td>60.0</td>\n",
                            "      <td>0.9980</td>\n",
                            "      <td>3.16</td>\n",
                            "      <td>0.58</td>\n",
                            "      <td>9.8</td>\n",
                            "      <td>6</td>\n",
                            "      <td>1</td>\n",
                            "    </tr>\n",
                            "    <tr>\n",
                            "      <th>5</th>\n",
                            "      <td>7.4</td>\n",
                            "      <td>0.66</td>\n",
                            "      <td>0.00</td>\n",
                            "      <td>1.8</td>\n",
                            "      <td>0.075</td>\n",
                            "      <td>13.0</td>\n",
                            "      <td>40.0</td>\n",
                            "      <td>0.9978</td>\n",
                            "      <td>3.51</td>\n",
                            "      <td>0.56</td>\n",
                            "      <td>9.4</td>\n",
                            "      <td>5</td>\n",
                            "      <td>0</td>\n",
                            "    </tr>\n",
                            "  </tbody>\n",
                            "</table>\n",
                            "</div>"
                        ],
                        "text/plain": [
                            "   fixed acidity  volatile acidity  citric acid  residual sugar  chlorides  \\\n",
                            "0            7.4              0.70         0.00             1.9      0.076   \n",
                            "1            7.8              0.88         0.00             2.6      0.098   \n",
                            "2            7.8              0.76         0.04             2.3      0.092   \n",
                            "3           11.2              0.28         0.56             1.9      0.075   \n",
                            "5            7.4              0.66         0.00             1.8      0.075   \n",
                            "\n",
                            "   free sulfur dioxide  total sulfur dioxide  density    pH  sulphates  \\\n",
                            "0                 11.0                  34.0   0.9978  3.51       0.56   \n",
                            "1                 25.0                  67.0   0.9968  3.20       0.68   \n",
                            "2                 15.0                  54.0   0.9970  3.26       0.65   \n",
                            "3                 17.0                  60.0   0.9980  3.16       0.58   \n",
                            "5                 13.0                  40.0   0.9978  3.51       0.56   \n",
                            "\n",
                            "   alcohol  quality  quality_group  \n",
                            "0      9.4        5              0  \n",
                            "1      9.8        5              0  \n",
                            "2      9.8        5              0  \n",
                            "3      9.8        6              1  \n",
                            "5      9.4        5              0  "
                        ]
                    },
                    "execution_count": 55,
                    "metadata": {},
                    "output_type": "execute_result"
                }
            ],
            "source": [
                "# Quitamos duplicados.\n",
                "df = df.drop_duplicates()\n",
                "df.head()"
            ]
        },
        {
            "cell_type": "code",
            "execution_count": 54,
            "metadata": {},
            "outputs": [
                {
                    "data": {
                        "text/plain": [
                            "quality  quality_group\n",
                            "5        0                681\n",
                            "6        1                638\n",
                            "7        1                199\n",
                            "4        0                 53\n",
                            "8        1                 18\n",
                            "3        0                 10\n",
                            "Name: count, dtype: int64"
                        ]
                    },
                    "execution_count": 54,
                    "metadata": {},
                    "output_type": "execute_result"
                }
            ],
            "source": [
                "# Hacemos 2 grupos de claidad 0 y 1\n",
                "df[\"quality_group\"] = df[\"quality\"].apply(lambda x: 0 if x <= 5 else 1)\n",
                "df[[\"quality\", \"quality_group\"]].value_counts()"
            ]
        },
        {
            "cell_type": "markdown",
            "metadata": {},
            "source": [
                "Creamos nueva columna \"quality_group\", 0 = baja calidad(vinos con \"quality\" de 5 o menos), 1= alta calidad(vinos con \"quality\" mayor a 5)"
            ]
        },
        {
            "cell_type": "code",
            "execution_count": 53,
            "metadata": {},
            "outputs": [
                {
                    "data": {
                        "image/png": "[encoded data removed]",
                        "text/plain": [
                            "<Figure size 600x400 with 1 Axes>"
                        ]
                    },
                    "metadata": {},
                    "output_type": "display_data"
                }
            ],
            "source": [
                "# conteo de vinos en cada grupo de calidad\n",
                "quality_counts = df[\"quality_group\"].value_counts()\n",
                "plt.figure(figsize=(6, 4))\n",
                "plt.bar([\"Baja Calidad\", \"Alta Calidad\"], quality_counts, color=[\"#8F0A11\", \"#2D0869\"])\n",
                "plt.xlabel(\"Grupo de Calidad\")\n",
                "plt.ylabel(\"Cantidad de Vinos\")\n",
                "plt.title(\"Distribución de Calidad del Vino\")\n",
                "plt.show()"
            ]
        },
        {
            "cell_type": "code",
            "execution_count": 52,
            "metadata": {},
            "outputs": [],
            "source": [
                "# Separar variables independientes (X) y objetivo (y)\n",
                "X = df.drop([\"quality\",\"quality_group\"], axis=1)\n",
                "y = df[\"quality\"]\n",
                "\n",
                "# Dividir en conjuntos de entrenamiento y prueba (80/20)\n",
                "X_train, X_test, y_train, y_test = train_test_split(X, y, test_size=0.2, random_state=42)"
            ]
        },
        {
            "cell_type": "code",
            "execution_count": 51,
            "metadata": {},
            "outputs": [
                {
                    "name": "stdout",
                    "output_type": "stream",
                    "text": [
                        "Media después del escalado: [ 3.57886061e-16 -1.14392805e-16 -4.57571219e-17 -2.61469268e-17\n",
                        "  8.33433292e-17 -1.47076463e-17  1.30734634e-17 -9.97505257e-15\n",
                        " -3.01997005e-15 -4.11814097e-16 -8.87361328e-16]\n",
                        "----------------------------------------------------\n",
                        "Desviación estándar después del escalado: [1. 1. 1. 1. 1. 1. 1. 1. 1. 1. 1.]\n"
                    ]
                }
            ],
            "source": [
                "# Escalar los datos usando StandardScaler\n",
                "scaler = StandardScaler()\n",
                "X_train_scaled = scaler.fit_transform(X_train)\n",
                "X_test_scaled = scaler.transform(X_test)\n",
                "print(\"Media después del escalado:\", X_train_scaled.mean(axis=0))\n",
                "print(\"----------------------------------------------------\")\n",
                "print(\"Desviación estándar después del escalado:\", X_train_scaled.std(axis=0))"
            ]
        },
        {
            "cell_type": "markdown",
            "metadata": {},
            "source": [
                "transformamos cada columna para que tenga media=0 o Desviacion estandar=1 asi todas las variables tienen la misma influencia en el modelo."
            ]
        },
        {
            "cell_type": "code",
            "execution_count": 50,
            "metadata": {},
            "outputs": [
                {
                    "name": "stdout",
                    "output_type": "stream",
                    "text": [
                        "Accuracy con k=5: 0.5441\n",
                        "\n",
                        "Confusion Matrix:\n",
                        " [[ 0  1  3  0  0  0]\n",
                        " [ 0  0  7  4  0  0]\n",
                        " [ 0  2 82 33  3  0]\n",
                        " [ 0  1 40 52 10  0]\n",
                        " [ 0  0  7 10 14  0]\n",
                        " [ 0  0  0  1  2  0]]\n"
                    ]
                }
            ],
            "source": [
                "# Entrenar KNN con un valor inicial de k=5\n",
                "k_initial = 5\n",
                "model = KNeighborsClassifier(n_neighbors=k_initial, algorithm=\"brute\")\n",
                "model.fit(X_train_scaled, y_train)\n",
                "y_pred = model.predict(X_test_scaled)\n",
                "\n",
                "print(f\"Accuracy con k={k_initial}: {accuracy_score(y_test, y_pred):.4f}\")\n",
                "print(\"\\nConfusion Matrix:\\n\", confusion_matrix(y_test, y_pred))"
            ]
        },
        {
            "cell_type": "markdown",
            "metadata": {},
            "source": [
                "Precision: el modelo acierta un 54.41% de los casos.\n",
                "Matriz : cada fila valores reales, cada columna valores predichos. predijo 82 vinos correctamente y 40 mal.\n",
                "Vinos de calidad 3 y 4 se confunden mucho con calidad 5 y 6. seguramente porque solo hice 2 grupos."
            ]
        },
        {
            "cell_type": "code",
            "execution_count": 49,
            "metadata": {},
            "outputs": [
                {
                    "name": "stdout",
                    "output_type": "stream",
                    "text": [
                        "              precision    recall  f1-score   support\n",
                        "\n",
                        "           3       0.00      0.00      0.00         4\n",
                        "           4       0.00      0.00      0.00        11\n",
                        "           5       0.64      0.74      0.69       120\n",
                        "           6       0.55      0.59      0.57       103\n",
                        "           7       0.65      0.48      0.56        31\n",
                        "           8       0.00      0.00      0.00         3\n",
                        "\n",
                        "    accuracy                           0.61       272\n",
                        "   macro avg       0.31      0.30      0.30       272\n",
                        "weighted avg       0.57      0.61      0.58       272\n",
                        "\n"
                    ]
                },
                {
                    "name": "stderr",
                    "output_type": "stream",
                    "text": [
                        "/home/vscode/.local/lib/python3.11/site-packages/sklearn/metrics/_classification.py:1706: UndefinedMetricWarning: Precision is ill-defined and being set to 0.0 in labels with no predicted samples. Use `zero_division` parameter to control this behavior.\n",
                        "  _warn_prf(average, modifier, f\"{metric.capitalize()} is\", result.shape[0])\n",
                        "/home/vscode/.local/lib/python3.11/site-packages/sklearn/metrics/_classification.py:1706: UndefinedMetricWarning: Precision is ill-defined and being set to 0.0 in labels with no predicted samples. Use `zero_division` parameter to control this behavior.\n",
                        "  _warn_prf(average, modifier, f\"{metric.capitalize()} is\", result.shape[0])\n",
                        "/home/vscode/.local/lib/python3.11/site-packages/sklearn/metrics/_classification.py:1706: UndefinedMetricWarning: Precision is ill-defined and being set to 0.0 in labels with no predicted samples. Use `zero_division` parameter to control this behavior.\n",
                        "  _warn_prf(average, modifier, f\"{metric.capitalize()} is\", result.shape[0])\n"
                    ]
                }
            ],
            "source": [
                "print(classification_report(y_test, y_pred))"
            ]
        },
        {
            "cell_type": "markdown",
            "metadata": {},
            "source": [
                "El modelo acierta un 61% de los casos."
            ]
        },
        {
            "cell_type": "code",
            "execution_count": 48,
            "metadata": {},
            "outputs": [
                {
                    "name": "stdout",
                    "output_type": "stream",
                    "text": [
                        "[0.5367647058823529, 0.5257352941176471, 0.4963235294117647, 0.5147058823529411, 0.5441176470588235, 0.5845588235294118, 0.5772058823529411, 0.5698529411764706, 0.6066176470588235, 0.5992647058823529, 0.6286764705882353, 0.6139705882352942, 0.6102941176470589, 0.6029411764705882, 0.5919117647058824, 0.5772058823529411, 0.5955882352941176, 0.6102941176470589, 0.6102941176470589, 0.6066176470588235]\n"
                    ]
                }
            ],
            "source": [
                "# Optimización de k (de 1 a 20)\n",
                "k_values = range(1, 21)\n",
                "accuracies = []\n",
                "\n",
                "for k in k_values:\n",
                "    model = KNeighborsClassifier(n_neighbors=k, algorithm=\"brute\")\n",
                "    model.fit(X_train_scaled, y_train)\n",
                "    y_pred = model.predict(X_test_scaled)\n",
                "    accuracies.append(accuracy_score(y_test, y_pred))\n",
                "\n",
                "print(accuracies)"
            ]
        },
        {
            "cell_type": "markdown",
            "metadata": {},
            "source": [
                "Aqui probamos diferentes valores de k de 1 a 20 y evalua la precision para cada uno, la mayor precision seria k=11 con un 0,6287 osea un 62,87% y la peor k=3 con 49,63%."
            ]
        },
        {
            "cell_type": "code",
            "execution_count": 47,
            "metadata": {},
            "outputs": [
                {
                    "data": {
                        "image/png": "[encoded data removed]",
                        "text/plain": [
                            "<Figure size 1000x500 with 1 Axes>"
                        ]
                    },
                    "metadata": {},
                    "output_type": "display_data"
                }
            ],
            "source": [
                "# Accuracy vs k\n",
                "plt.figure(figsize=(10, 5))\n",
                "plt.plot(k_values, accuracies, marker='o', linestyle='dashed', color='red')\n",
                "plt.xlabel(\"Número de Vecinos (k)\")\n",
                "plt.ylabel(\"Precisión\")\n",
                "plt.title(\"Optimización de k en KNN para clasificación de vinos\")\n",
                "plt.show()"
            ]
        }
    ],
    "metadata": {
        "kernelspec": {
            "display_name": "Python 3",
            "language": "python",
            "name": "python3"
        },
        "language_info": {
            "codemirror_mode": {
                "name": "ipython",
                "version": 3
            },
            "file_extension": ".py",
            "mimetype": "text/x-python",
            "name": "python",
            "nbconvert_exporter": "python",
            "pygments_lexer": "ipython3",
            "version": "3.11.4"
        },
        "orig_nbformat": 4
    },
    "nbformat": 4,
    "nbformat_minor": 2
}
